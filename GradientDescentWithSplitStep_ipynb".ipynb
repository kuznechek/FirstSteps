{
  "nbformat": 4,
  "nbformat_minor": 0,
  "metadata": {
    "colab": {
      "name": "GradientDescentWithSplitStep.ipynb\"",
      "provenance": [],
      "collapsed_sections": [],
      "authorship_tag": "ABX9TyPL7IthccW5Fpn6tc6zOA3c",
      "include_colab_link": true
    },
    "kernelspec": {
      "name": "python3",
      "display_name": "Python 3"
    }
  },
  "cells": [
    {
      "cell_type": "markdown",
      "metadata": {
        "id": "view-in-github",
        "colab_type": "text"
      },
      "source": [
        "<a href=\"https://colab.research.google.com/github/kuznechek/FirstSteps/blob/master/GradientDescentWithSplitStep_ipynb%22.ipynb\" target=\"_parent\"><img src=\"https://colab.research.google.com/assets/colab-badge.svg\" alt=\"Open In Colab\"/></a>"
      ]
    },
    {
      "cell_type": "markdown",
      "metadata": {
        "id": "LhCY1GIMEnck",
        "colab_type": "text"
      },
      "source": [
        "# Градиентный спуск с дроблением шага"
      ]
    },
    {
      "cell_type": "markdown",
      "metadata": {
        "id": "GaoX7w5cE1C0",
        "colab_type": "text"
      },
      "source": [
        "Исходные параметры:\n",
        "\n",
        "Одномерный тензор Х = (0.686, 2.164, 0.137)\n",
        "\n",
        "Шаг = 0.001, коэффициент дробления = 0.7\n",
        "\n",
        "Заданная точность = 0.1"
      ]
    },
    {
      "cell_type": "code",
      "metadata": {
        "id": "lAHj34aunF1F",
        "colab_type": "code",
        "colab": {
          "base_uri": "https://localhost:8080/",
          "height": 765
        },
        "outputId": "5cfdbef8-d2cc-4187-de45-00071914bce7"
      },
      "source": [
        "import torch\n",
        "\n",
        "def function(w):\n",
        "  w1 = w[0] \n",
        "  w2 = w[1]\n",
        "  w3 = w[2]\n",
        "  result = 3 *w1**2 + w2**2 + 5*w3 - w1*w2 + 2*w1*w3 + 6*w1 - 5*w2\n",
        "  return result\n",
        "\n",
        "x = torch.tensor([0.686, 2.164, 0.137], requires_grad = True)\n",
        "alpha = 0.001\n",
        "epsilon = 10\n",
        "k = 0\n",
        "print('Начальные координаты :', x.data)\n",
        "print('')\n",
        "\n",
        "while (epsilon >= 0.1):\n",
        "  fx = function(x)\n",
        "  fx.backward()\n",
        "  gx = x.grad\n",
        "  x_new = x - alpha*gx\n",
        "  y = function(x_new)  \n",
        "  y.backward()\n",
        "\n",
        "  if fx <= y:\n",
        "    alpha *= 0.7\n",
        "  else:\n",
        "    x.data = x_new\n",
        "  epsilon = abs(fx-y)\n",
        "  k += 1\n",
        "  x.grad.zero_()\n",
        "  print('Итерация :', k)\n",
        "  print(epsilon)\n",
        "  print(x.data)\n",
        "  print('')\n",
        " \n",
        "print('Всего итераций :', k)\n",
        "print(x.data)"
      ],
      "execution_count": 57,
      "outputs": [
        {
          "output_type": "stream",
          "text": [
            "Начальные координаты : tensor([0.6860, 2.1640, 0.1370])\n",
            "\n",
            "Итерация : 1\n",
            "tensor(0.1098, grad_fn=<AbsBackward>)\n",
            "tensor([0.6778, 2.1654, 0.1306])\n",
            "\n",
            "Итерация : 2\n",
            "tensor(0.1085, grad_fn=<AbsBackward>)\n",
            "tensor([0.6696, 2.1667, 0.1243])\n",
            "\n",
            "Итерация : 3\n",
            "tensor(0.1073, grad_fn=<AbsBackward>)\n",
            "tensor([0.6615, 2.1680, 0.1179])\n",
            "\n",
            "Итерация : 4\n",
            "tensor(0.1060, grad_fn=<AbsBackward>)\n",
            "tensor([0.6535, 2.1694, 0.1116])\n",
            "\n",
            "Итерация : 5\n",
            "tensor(0.1048, grad_fn=<AbsBackward>)\n",
            "tensor([0.6455, 2.1707, 0.1053])\n",
            "\n",
            "Итерация : 6\n",
            "tensor(0.1036, grad_fn=<AbsBackward>)\n",
            "tensor([0.6376, 2.1720, 0.0990])\n",
            "\n",
            "Итерация : 7\n",
            "tensor(0.1024, grad_fn=<AbsBackward>)\n",
            "tensor([0.6297, 2.1733, 0.0927])\n",
            "\n",
            "Итерация : 8\n",
            "tensor(0.1012, grad_fn=<AbsBackward>)\n",
            "tensor([0.6219, 2.1746, 0.0865])\n",
            "\n",
            "Итерация : 9\n",
            "tensor(0.1001, grad_fn=<AbsBackward>)\n",
            "tensor([0.6142, 2.1758, 0.0802])\n",
            "\n",
            "Итерация : 10\n",
            "tensor(0.0989, grad_fn=<AbsBackward>)\n",
            "tensor([0.6065, 2.1771, 0.0740])\n",
            "\n",
            "Всего итераций : 10\n",
            "tensor([0.6065, 2.1771, 0.0740])\n"
          ],
          "name": "stdout"
        }
      ]
    },
    {
      "cell_type": "code",
      "metadata": {
        "id": "KuAddPqpFOEe",
        "colab_type": "code",
        "colab": {}
      },
      "source": [
        "#Проверка\n",
        "def check(w,v):\n",
        "  if w[0] <= v[0] and w[1] <= v[1] and w[2] <= v[2]:\n",
        "    return 1\n",
        "  else:\n",
        "    return 0"
      ],
      "execution_count": null,
      "outputs": []
    }
  ]
}