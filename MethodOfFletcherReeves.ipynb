{
  "nbformat": 4,
  "nbformat_minor": 0,
  "metadata": {
    "colab": {
      "name": "MethodOfFletcherReeves.ipynb",
      "provenance": [],
      "collapsed_sections": [],
      "authorship_tag": "ABX9TyMrZIYW7cM4E3DUB6RKHiRt",
      "include_colab_link": true
    },
    "kernelspec": {
      "name": "python3",
      "display_name": "Python 3"
    }
  },
  "cells": [
    {
      "cell_type": "markdown",
      "metadata": {
        "id": "view-in-github",
        "colab_type": "text"
      },
      "source": [
        "<a href=\"https://colab.research.google.com/github/kuznechek/FirstSteps/blob/master/MethodOfFletcherReeves.ipynb\" target=\"_parent\"><img src=\"https://colab.research.google.com/assets/colab-badge.svg\" alt=\"Open In Colab\"/></a>"
      ]
    },
    {
      "cell_type": "markdown",
      "metadata": {
        "id": "9mv7MXCTvlS8"
      },
      "source": [
        "# Метод Флетчера-Ривса"
      ]
    },
    {
      "cell_type": "code",
      "metadata": {
        "id": "ICMq8DBPvcoy"
      },
      "source": [
        "import torch\n",
        "\n",
        "def function(w):\n",
        "  w1 = w[0] \n",
        "  w2 = w[1]\n",
        "  w3 = w[2]\n",
        "  result = 3 *w1**2 + w2**2 + 5*w3**2 - w1*w2 + 2*w1*w3 + 6*w1 - 5*w2\n",
        "  return result\n",
        "\n",
        "def partial_der(w):\n",
        "  w1 = w[0] \n",
        "  w2 = w[1]\n",
        "  w3 = w[2]\n",
        "  v = (6*w1 + w2 + 7*w3 + 1) / 12\n",
        "  return v + 0.001\n",
        "\n",
        "x = torch.tensor([0.125, 2.625, -0.625], requires_grad = True)\n",
        "print('Начальные координаты : X =', x)\n",
        "print('')\n",
        "k = 0\n",
        "\n",
        "while 1:\n",
        "  fx = function(x)\n",
        "  fx.backward()\n",
        "  gx = x.grad\n",
        "  print(gx)\n",
        "  \n",
        "  if torch.norm(gx) < 0.01:\n",
        "    break\n",
        "  if k == 0:\n",
        "    d = gx\n",
        "  else:\n",
        "    b = torch.norm(g1)/torch.norm(gx)\n",
        "    d = gx + b*g1\n",
        "    t = partial_der(x)\n",
        "    x1 = x - t*d\n",
        "  g1 = gx\n",
        "  k += 1\n"
      ],
      "execution_count": null,
      "outputs": []
    }
  ]
}