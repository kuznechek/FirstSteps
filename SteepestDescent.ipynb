{
  "nbformat": 4,
  "nbformat_minor": 0,
  "metadata": {
    "colab": {
      "name": "SteepestDescent.ipynb",
      "provenance": [],
      "collapsed_sections": [],
      "authorship_tag": "ABX9TyOKJxO/iMZAWXQ+bNV3x4jB",
      "include_colab_link": true
    },
    "kernelspec": {
      "name": "python3",
      "display_name": "Python 3"
    }
  },
  "cells": [
    {
      "cell_type": "markdown",
      "metadata": {
        "id": "view-in-github",
        "colab_type": "text"
      },
      "source": [
        "<a href=\"https://colab.research.google.com/github/kuznechek/FirstSteps/blob/master/SteepestDescent.ipynb\" target=\"_parent\"><img src=\"https://colab.research.google.com/assets/colab-badge.svg\" alt=\"Open In Colab\"/></a>"
      ]
    },
    {
      "cell_type": "code",
      "metadata": {
        "id": "kvZqQKePxAOw",
        "outputId": "c860f9af-46c9-4427-a769-c99629600fa5",
        "colab": {
          "base_uri": "https://localhost:8080/",
          "height": 617
        }
      },
      "source": [
        "import torch\n",
        "import numpy\n",
        "\n",
        "def function(w):\n",
        "  w1 = w[0] \n",
        "  w2 = w[1]\n",
        "  w3 = w[2]\n",
        "  result = 3 *w1**2 + w2**2 + 5*w3**2 - w1*w2 + 2*w1*w3 + 6*w1 - 5*w2\n",
        "  return result\n",
        "\n",
        "def partial_der(w):\n",
        "  w1 = w[0] \n",
        "  w2 = w[1]\n",
        "  w3 = w[2]\n",
        "  v = (6*w1 + w2 + 7*w3 + 1) / 12\n",
        "  return v + 0.001\n",
        "\n",
        "x = torch.tensor([0.125, 2.625, -0.625], requires_grad = True)\n",
        "k = 0\n",
        "norma = 10.\n",
        "print('Начальные координаты : X =', x.data)\n",
        "print('')\n",
        "\n",
        "while norma > 0.001:\n",
        "  k += 1\n",
        "  fx = function(x)\n",
        "  fx.backward()\n",
        "  gx = x.grad\n",
        "  s = - gx / torch.norm(gx)\n",
        "  t = partial_der(x)\n",
        "  x_new = x.data - t*s\n",
        "  x.data = x_new\n",
        "  fx_new = function(x_new)\n",
        "  norma = torch.norm(fx_new - fx)\n",
        "  print('X* =', x_new)\n",
        "  print('f(X*) =', fx_new)\n",
        "  print('Норма :', norma)\n",
        "  print('')\n",
        "  x.grad.zero_()\n",
        "  \n",
        "#print('Градиент :', gx)\n",
        "print('Всего итераций :', k)\n",
        "print('Х* =', x_new)\n",
        "print('Норма :', norma)\n",
        "#print('Вектор смещения :', s)\n",
        "#print('Первый шаг :', t)\n"
      ],
      "execution_count": 186,
      "outputs": [
        {
          "output_type": "stream",
          "text": [
            "Начальные координаты : X = tensor([ 0.1250,  2.6250, -0.6250])\n",
            "\n",
            "X* = tensor([ 0.1254,  2.6250, -0.6259], grad_fn=<SubBackward0>)\n",
            "f(X*) = tensor(-3.9621, grad_fn=<SubBackward0>)\n",
            "Норма : tensor(0.0067, grad_fn=<NormBackward0>)\n",
            "\n",
            "X* = tensor([ 0.1257,  2.6250, -0.6265], grad_fn=<SubBackward0>)\n",
            "f(X*) = tensor(-3.9575, grad_fn=<SubBackward0>)\n",
            "Норма : tensor(0.0046, grad_fn=<NormBackward0>)\n",
            "\n",
            "X* = tensor([ 0.1259,  2.6250, -0.6270], grad_fn=<SubBackward0>)\n",
            "f(X*) = tensor(-3.9543, grad_fn=<SubBackward0>)\n",
            "Норма : tensor(0.0032, grad_fn=<NormBackward0>)\n",
            "\n",
            "X* = tensor([ 0.1261,  2.6250, -0.6273], grad_fn=<SubBackward0>)\n",
            "f(X*) = tensor(-3.9521, grad_fn=<SubBackward0>)\n",
            "Норма : tensor(0.0022, grad_fn=<NormBackward0>)\n",
            "\n",
            "X* = tensor([ 0.1262,  2.6251, -0.6275], grad_fn=<SubBackward0>)\n",
            "f(X*) = tensor(-3.9506, grad_fn=<SubBackward0>)\n",
            "Норма : tensor(0.0015, grad_fn=<NormBackward0>)\n",
            "\n",
            "X* = tensor([ 0.1262,  2.6251, -0.6276], grad_fn=<SubBackward0>)\n",
            "f(X*) = tensor(-3.9495, grad_fn=<SubBackward0>)\n",
            "Норма : tensor(0.0011, grad_fn=<NormBackward0>)\n",
            "\n",
            "X* = tensor([ 0.1263,  2.6251, -0.6277], grad_fn=<SubBackward0>)\n",
            "f(X*) = tensor(-3.9488, grad_fn=<SubBackward0>)\n",
            "Норма : tensor(0.0007, grad_fn=<NormBackward0>)\n",
            "\n",
            "Всего итераций : 7\n",
            "Х* = tensor([ 0.1263,  2.6251, -0.6277], grad_fn=<SubBackward0>)\n",
            "Норма : tensor(0.0007, grad_fn=<NormBackward0>)\n"
          ],
          "name": "stdout"
        }
      ]
    },
    {
      "cell_type": "code",
      "metadata": {
        "id": "5CVZ2z3Cv3Mb",
        "outputId": "23fa2a6f-9a76-42af-b87f-4fccf40fe5cc",
        "colab": {
          "base_uri": "https://localhost:8080/",
          "height": 407
        }
      },
      "source": [
        "import torch\n",
        "import numpy\n",
        "\n",
        "def function(w):\n",
        "  w1 = w[0] \n",
        "  w2 = w[1]\n",
        "  w3 = w[2]\n",
        "  result = 3 *w1**2 + w2**2 + 5*w3**2 - w1*w2 + 2*w1*w3 + 6*w1 - 5*w2\n",
        "  return result\n",
        "\n",
        "def partial_der(w):\n",
        "  w1 = w[0] \n",
        "  w2 = w[1]\n",
        "  w3 = w[2]\n",
        "  v = (7*w1 + w2 + 12*w3 + 1) / 12\n",
        "  return v\n",
        "\n",
        "def norm(w):\n",
        "  w1 = w[0] \n",
        "  w2 = w[1]\n",
        "  w3 = w[2]\n",
        "  v = (w1**2 + w2**2 + w3**3)\n",
        "  return v\n",
        "  \n",
        "\n",
        "x = torch.tensor([0.125, 2.625, -0.625], requires_grad = True)\n",
        "k = 0\n",
        "t = 10.\n",
        "print('Начальные координаты : X =', x.data)\n",
        "print('')\n",
        "\n",
        "t = partial_der(x)\n",
        "\n",
        "while norma > 0.001:\n",
        "  k += 1 \n",
        "  fx = function(x)\n",
        "  fx.backward()\n",
        "  gx = x.grad\n",
        "  norma = torch.norm(gx)\n",
        "  s = - gx / norma\n",
        "  x_new = x.data + t*s\n",
        "  fx_new = function(x_new)\n",
        "#  fx_new.backward()\n",
        "  x.data = x_new\n",
        "  norma = torch.norm(fx_new - fx)\n",
        "#  print('X* =', x_new)\n",
        "#  print('Норма :', norma)\n",
        "#  print(' ')\n",
        "  x.grad.zero_()\n",
        "  \n",
        "#print('Градиент :', gx)\n",
        "print('Всего итераций :', k)\n",
        "print('Норма :', norma)\n",
        "print('Х* =', x_new)\n",
        "#print('Вектор смещения :', s)\n",
        "#print('Первый шаг :', t)\n"
      ],
      "execution_count": 118,
      "outputs": [
        {
          "output_type": "stream",
          "text": [
            "Начальные координаты : X = tensor([ 0.1250,  2.6250, -0.6250])\n",
            "\n"
          ],
          "name": "stdout"
        },
        {
          "output_type": "error",
          "ename": "KeyboardInterrupt",
          "evalue": "ignored",
          "traceback": [
            "\u001b[0;31m---------------------------------------------------------------------------\u001b[0m",
            "\u001b[0;31mKeyboardInterrupt\u001b[0m                         Traceback (most recent call last)",
            "\u001b[0;32m<ipython-input-118-11517782013f>\u001b[0m in \u001b[0;36m<module>\u001b[0;34m()\u001b[0m\n\u001b[1;32m     34\u001b[0m \u001b[0;32mwhile\u001b[0m \u001b[0mnorma\u001b[0m \u001b[0;34m>\u001b[0m \u001b[0;36m0.001\u001b[0m\u001b[0;34m:\u001b[0m\u001b[0;34m\u001b[0m\u001b[0;34m\u001b[0m\u001b[0m\n\u001b[1;32m     35\u001b[0m   \u001b[0mk\u001b[0m \u001b[0;34m+=\u001b[0m \u001b[0;36m1\u001b[0m\u001b[0;34m\u001b[0m\u001b[0;34m\u001b[0m\u001b[0m\n\u001b[0;32m---> 36\u001b[0;31m   \u001b[0mfx\u001b[0m \u001b[0;34m=\u001b[0m \u001b[0mfunction\u001b[0m\u001b[0;34m(\u001b[0m\u001b[0mx\u001b[0m\u001b[0;34m)\u001b[0m\u001b[0;34m\u001b[0m\u001b[0;34m\u001b[0m\u001b[0m\n\u001b[0m\u001b[1;32m     37\u001b[0m   \u001b[0mfx\u001b[0m\u001b[0;34m.\u001b[0m\u001b[0mbackward\u001b[0m\u001b[0;34m(\u001b[0m\u001b[0;34m)\u001b[0m\u001b[0;34m\u001b[0m\u001b[0;34m\u001b[0m\u001b[0m\n\u001b[1;32m     38\u001b[0m   \u001b[0mgx\u001b[0m \u001b[0;34m=\u001b[0m \u001b[0mx\u001b[0m\u001b[0;34m.\u001b[0m\u001b[0mgrad\u001b[0m\u001b[0;34m\u001b[0m\u001b[0;34m\u001b[0m\u001b[0m\n",
            "\u001b[0;32m<ipython-input-118-11517782013f>\u001b[0m in \u001b[0;36mfunction\u001b[0;34m(w)\u001b[0m\n\u001b[1;32m      6\u001b[0m   \u001b[0mw2\u001b[0m \u001b[0;34m=\u001b[0m \u001b[0mw\u001b[0m\u001b[0;34m[\u001b[0m\u001b[0;36m1\u001b[0m\u001b[0;34m]\u001b[0m\u001b[0;34m\u001b[0m\u001b[0;34m\u001b[0m\u001b[0m\n\u001b[1;32m      7\u001b[0m   \u001b[0mw3\u001b[0m \u001b[0;34m=\u001b[0m \u001b[0mw\u001b[0m\u001b[0;34m[\u001b[0m\u001b[0;36m2\u001b[0m\u001b[0;34m]\u001b[0m\u001b[0;34m\u001b[0m\u001b[0;34m\u001b[0m\u001b[0m\n\u001b[0;32m----> 8\u001b[0;31m   \u001b[0mresult\u001b[0m \u001b[0;34m=\u001b[0m \u001b[0;36m3\u001b[0m \u001b[0;34m*\u001b[0m\u001b[0mw1\u001b[0m\u001b[0;34m**\u001b[0m\u001b[0;36m2\u001b[0m \u001b[0;34m+\u001b[0m \u001b[0mw2\u001b[0m\u001b[0;34m**\u001b[0m\u001b[0;36m2\u001b[0m \u001b[0;34m+\u001b[0m \u001b[0;36m5\u001b[0m\u001b[0;34m*\u001b[0m\u001b[0mw3\u001b[0m\u001b[0;34m**\u001b[0m\u001b[0;36m2\u001b[0m \u001b[0;34m-\u001b[0m \u001b[0mw1\u001b[0m\u001b[0;34m*\u001b[0m\u001b[0mw2\u001b[0m \u001b[0;34m+\u001b[0m \u001b[0;36m2\u001b[0m\u001b[0;34m*\u001b[0m\u001b[0mw1\u001b[0m\u001b[0;34m*\u001b[0m\u001b[0mw3\u001b[0m \u001b[0;34m+\u001b[0m \u001b[0;36m6\u001b[0m\u001b[0;34m*\u001b[0m\u001b[0mw1\u001b[0m \u001b[0;34m-\u001b[0m \u001b[0;36m5\u001b[0m\u001b[0;34m*\u001b[0m\u001b[0mw2\u001b[0m\u001b[0;34m\u001b[0m\u001b[0;34m\u001b[0m\u001b[0m\n\u001b[0m\u001b[1;32m      9\u001b[0m   \u001b[0;32mreturn\u001b[0m \u001b[0mresult\u001b[0m\u001b[0;34m\u001b[0m\u001b[0;34m\u001b[0m\u001b[0m\n\u001b[1;32m     10\u001b[0m \u001b[0;34m\u001b[0m\u001b[0m\n",
            "\u001b[0;31mKeyboardInterrupt\u001b[0m: "
          ]
        }
      ]
    }
  ]
}