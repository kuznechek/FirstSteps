{
  "nbformat": 4,
  "nbformat_minor": 0,
  "metadata": {
    "colab": {
      "name": "SteepestDescent.ipynb",
      "provenance": [],
      "collapsed_sections": [],
      "authorship_tag": "ABX9TyPJA14RrdNPXDm3xSSERBKS",
      "include_colab_link": true
    },
    "kernelspec": {
      "name": "python3",
      "display_name": "Python 3"
    }
  },
  "cells": [
    {
      "cell_type": "markdown",
      "metadata": {
        "id": "view-in-github",
        "colab_type": "text"
      },
      "source": [
        "<a href=\"https://colab.research.google.com/github/kuznechek/FirstSteps/blob/master/SteepestDescent.ipynb\" target=\"_parent\"><img src=\"https://colab.research.google.com/assets/colab-badge.svg\" alt=\"Open In Colab\"/></a>"
      ]
    },
    {
      "cell_type": "code",
      "metadata": {
        "id": "kvZqQKePxAOw",
        "outputId": "da7f7e19-3887-4d3c-b4df-897236df30ba",
        "colab": {
          "base_uri": "https://localhost:8080/",
          "height": 126
        }
      },
      "source": [
        "import torch\n",
        "import numpy\n",
        "\n",
        "def function(w):\n",
        "  w1 = w[0] \n",
        "  w2 = w[1]\n",
        "  w3 = w[2]\n",
        "  result = 3 *w1**2 + w2**2 + 5*w3**2 - w1*w2 + 2*w1*w3 + 6*w1 - 5*w2\n",
        "  return result\n",
        "\n",
        "def partial_der(w):\n",
        "  w1 = w[0] \n",
        "  w2 = w[1]\n",
        "  w3 = w[2]\n",
        "  v = (7*w1 + w2 + 12*w3 + 1) / 12\n",
        "  return v\n",
        "\n",
        "x = torch.tensor([0.125, 2.625, -0.625], requires_grad = True)\n",
        "k = 0\n",
        "print('Начальные координаты : X =', x.data)\n",
        "print('')\n",
        "fx = function(x)\n",
        "fx.backward()\n",
        "gx = x.grad\n",
        "norma = abs(gx)\n",
        "s = - gx / norma\n",
        "#fx_new = function(x + t*s)\n",
        "t = partial_der(x)\n",
        "x_new = t*x\n",
        "x.data = x_new\n",
        "x.\n",
        "print('Градиент :', gx)\n",
        "print('Норма :', norma)\n",
        "print('Вектор смещения :', s)\n",
        "print('Первый шаг :', t)\n"
      ],
      "execution_count": 74,
      "outputs": [
        {
          "output_type": "stream",
          "text": [
            "Начальные координаты : X = tensor([ 0.1250,  2.6250, -0.6250])\n",
            "\n",
            "Градиент : tensor([ 2.8750,  0.1250, -6.0000])\n",
            "Норма : tensor([2.8750, 0.1250, 6.0000])\n",
            "Вектор смещения : tensor([-1., -1.,  1.])\n",
            "tensor(-0.2500, grad_fn=<DivBackward0>)\n"
          ],
          "name": "stdout"
        }
      ]
    },
    {
      "cell_type": "code",
      "metadata": {
        "id": "5CVZ2z3Cv3Mb"
      },
      "source": [
        "import numpy as np\n",
        "\n",
        "def steepest_descent(A, b, x):\n",
        "    \"\"\"\n",
        "    Solve Ax = b\n",
        "    Parameter x: initial values\n",
        "    \"\"\"\n",
        "    r = b - A @ x\n",
        "    k = 0\n",
        "    while linalg.norm(r) > 1e-10 :\n",
        "        p = r\n",
        "        q = A @ p\n",
        "        alpha = (p @ r) / (p @ q)\n",
        "        x = x + alpha * p\n",
        "        r = r - alpha * q\n",
        "        k =+ 1\n",
        "\n",
        "    return x"
      ],
      "execution_count": 33,
      "outputs": []
    }
  ]
}