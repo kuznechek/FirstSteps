{
  "nbformat": 4,
  "nbformat_minor": 0,
  "metadata": {
    "colab": {
      "name": "SymplexMethod.ipynb",
      "provenance": [],
      "collapsed_sections": [],
      "authorship_tag": "ABX9TyPa5pD+sBjgrDset+c+/p+X",
      "include_colab_link": true
    },
    "kernelspec": {
      "name": "python3",
      "display_name": "Python 3"
    }
  },
  "cells": [
    {
      "cell_type": "markdown",
      "metadata": {
        "id": "view-in-github",
        "colab_type": "text"
      },
      "source": [
        "<a href=\"https://colab.research.google.com/github/kuznechek/FirstSteps/blob/master/SymplexMethod.ipynb\" target=\"_parent\"><img src=\"https://colab.research.google.com/assets/colab-badge.svg\" alt=\"Open In Colab\"/></a>"
      ]
    },
    {
      "cell_type": "code",
      "metadata": {
        "id": "xlsxnSJPCumF",
        "outputId": "36d98e7f-1887-4a23-c10f-6bfb58d0de45",
        "colab": {
          "base_uri": "https://localhost:8080/",
          "height": 217
        }
      },
      "source": [
        "def find_min():\n",
        "  print('Найденное значение :')\n",
        "def find_max():\n",
        "  print('Найденное значение :')\n",
        "\n",
        "print('Целевая функция : z = x_1 + 2*x_2 - x_3 + 2*x_4')\n",
        "print('Ограничения :')\n",
        "print('x_1 + 3*x_3 + x_4 = 10')\n",
        "print('x_1 + x_2 - 2*x_3 = 7')\n",
        "print('x_2 >= 0')\n",
        "print('')\n",
        "print('Чтобы решить задачу на минимум, нажмите 1')\n",
        "print('Чтобы решить задачу на максимум, нажмите 2')\n",
        "print('Нажмите Enter')\n",
        "print('')\n",
        "a = int(input())\n",
        "if a == 1:\n",
        "  find_min()\n",
        "elif a == 2:\n",
        "  find_max()\n",
        "else:\n",
        "  print('Введите 1 или 2')\n"
      ],
      "execution_count": 1,
      "outputs": [
        {
          "output_type": "stream",
          "text": [
            "Целевая функция : z = x_1 + 2*x_2 - x_3 + 2*x_4\n",
            "Ограничения :\n",
            "x_1 + 3*x_3 + x_4 = 10\n",
            "x_1 + x_2 - 2*x_3 = 7\n",
            "x_2 >= 0\n",
            "\n",
            "Чтобы решить задачу на минимум, нажмите 1\n",
            "Чтобы решить задачу на максимум, нажмите 2\n",
            "Нажмите Enter\n",
            "2\n",
            "Найденное значение :\n"
          ],
          "name": "stdout"
        }
      ]
    }
  ]
}