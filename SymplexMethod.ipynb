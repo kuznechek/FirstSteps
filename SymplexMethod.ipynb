{
  "nbformat": 4,
  "nbformat_minor": 0,
  "metadata": {
    "colab": {
      "name": "SymplexMethod.ipynb",
      "provenance": [],
      "collapsed_sections": [],
      "authorship_tag": "ABX9TyNV5rqRAzUAG6HKiv5egufg",
      "include_colab_link": true
    },
    "kernelspec": {
      "name": "python3",
      "display_name": "Python 3"
    }
  },
  "cells": [
    {
      "cell_type": "markdown",
      "metadata": {
        "id": "view-in-github",
        "colab_type": "text"
      },
      "source": [
        "<a href=\"https://colab.research.google.com/github/kuznechek/FirstSteps/blob/master/SymplexMethod.ipynb\" target=\"_parent\"><img src=\"https://colab.research.google.com/assets/colab-badge.svg\" alt=\"Open In Colab\"/></a>"
      ]
    },
    {
      "cell_type": "code",
      "metadata": {
        "id": "xlsxnSJPCumF",
        "outputId": "e555c15e-0b39-4494-fea5-6252713a4735",
        "colab": {
          "base_uri": "https://localhost:8080/",
          "height": 454
        }
      },
      "source": [
        "def print_matrix(m):\n",
        "  l = len(m)\n",
        "  n = len(m[0])\n",
        "  for i in range(l):\n",
        "    s = ''\n",
        "    for j in range(n):\n",
        "      s += ' ' + str(m[i][j])\n",
        "    print(s)\n",
        "\n",
        "def create_matrix():\n",
        "  m = list()\n",
        "  m.append(['Б', 'С', 1, 2, -1, 2, 'O'])\n",
        "  m.append([2, 10, 1, 0, 3, 1, '-'])\n",
        "  m.append([2, 7, 1, 1, -2, 0, '-'])\n",
        "  m.append(['', 'б', -3, 0, -3, 0, '-'])\n",
        "  return(m)\n",
        "\n",
        "def find_string(m, number):\n",
        "  m[1][6] = m[1][1] // m[1][number]\n",
        "  m[2][6] = m[2][1] // m[2][number]\n",
        "  if m[1][6] >= m[2][6]:\n",
        "    ind = 1\n",
        "  else: ind = 2\n",
        "  return ind\n",
        "\n",
        "def recompute(matrix, number, elem):\n",
        "  l = len(matrix)\n",
        "  for i in range(1, l):\n",
        "    n = len(matrix[i])\n",
        "    if i == number:\n",
        "      for j in range(n):\n",
        "        matrix[i][j] = matrix[i][j] / elem\n",
        "    else:\n",
        "      for j in range(n):\n",
        "        if str(matrix[i][j]).isnumeric() == True:\n",
        "          matrix[i][j] = matrix[i][j] - matrix[i][0]*matrix[3][j]\n",
        "    return matrix\n",
        "\n",
        "def find_min(matrix):\n",
        "  if check(matrix[3]) == True:\n",
        "    print('Базисное решение оптимально')\n",
        "    return (matrix[1][0],matrix[2][0])\n",
        "  else:\n",
        "    print('Ищем оптимальное решение')\n",
        "    ved_column = 4\n",
        "    ved_string = find_string(matrix, ved_column)\n",
        "    ved_elem = matrix[ved_string][ved_column]\n",
        "    print_matrix(matrix)\n",
        "    print('Ведущий эемент:', ved_elem)\n",
        "    print('Пересчёт таблицы')\n",
        "    matrix = recompute(matrix, ved_string, ved_elem)\n",
        "    print_matrix(matrix)\n",
        "\n",
        "def check(string):\n",
        "  print(string)\n",
        "  for i in range(2,6):\n",
        "    if int(string[i]) < 0:\n",
        "      return False\n",
        "  return True\n",
        "\n",
        "print('Целевая функция : z = x_1 + 2*x_2 - x_3 + 2*x_4')\n",
        "print('Ограничения :')\n",
        "print('x_1 + 3*x_3 + x_4 = 10')\n",
        "print('x_1 + x_2 - 2*x_3 = 7')\n",
        "print('x_2 >= 0')\n",
        "print('')\n",
        "print('Чтобы решить задачу на минимум, нажмите 1')\n",
        "print('Чтобы решить задачу на максимум, нажмите 2')\n",
        "print('Нажмите Enter')\n",
        "print('')\n",
        "\n",
        "matrix = create_matrix()\n",
        "print_matrix(matrix)\n",
        "#a = int(input())\n",
        "find_min(matrix)\n",
        "\n"
      ],
      "execution_count": 80,
      "outputs": [
        {
          "output_type": "stream",
          "text": [
            "Целевая функция : z = x_1 + 2*x_2 - x_3 + 2*x_4\n",
            "Ограничения :\n",
            "x_1 + 3*x_3 + x_4 = 10\n",
            "x_1 + x_2 - 2*x_3 = 7\n",
            "x_2 >= 0\n",
            "\n",
            "Чтобы решить задачу на минимум, нажмите 1\n",
            "Чтобы решить задачу на максимум, нажмите 2\n",
            "Нажмите Enter\n",
            "\n",
            " Б С 1 2 -1 2 O\n",
            " 2 10 1 0 3 1 -\n",
            " 2 7 1 1 -2 0 -\n",
            "  б -3 0 -3 0 -\n",
            "['', 'б', -3, 0, -3, 0, '-']\n",
            "Ищем оптимальное решение\n",
            " Б С 1 2 -1 2 O\n",
            " 2 10 1 0 3 1 3\n",
            " 2 7 1 1 -2 0 -4\n",
            "  б -3 0 -3 0 -\n",
            "Ведущий эемент: 3\n",
            "Пересчёт таблицы\n",
            " Б С 1 2 -1 2 O\n",
            " 0.6666666666666666 3.3333333333333335 0.3333333333333333 0.0 1.0 0.3333333333333333 1.0\n",
            " 2 7 1 1 -2 0 -4\n",
            "  б -3 0 -3 0 -\n"
          ],
          "name": "stdout"
        }
      ]
    },
    {
      "cell_type": "code",
      "metadata": {
        "id": "xHLRj38FGO36"
      },
      "source": [
        "\n",
        "\n"
      ],
      "execution_count": 50,
      "outputs": []
    }
  ]
}