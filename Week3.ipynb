{
  "nbformat": 4,
  "nbformat_minor": 0,
  "metadata": {
    "colab": {
      "name": "Week3.ipynb",
      "provenance": [],
      "collapsed_sections": [],
      "authorship_tag": "ABX9TyOiWw6M+gSeJ6Ywt4fn1eNn",
      "include_colab_link": true
    },
    "kernelspec": {
      "name": "python3",
      "display_name": "Python 3"
    }
  },
  "cells": [
    {
      "cell_type": "markdown",
      "metadata": {
        "id": "view-in-github",
        "colab_type": "text"
      },
      "source": [
        "<a href=\"https://colab.research.google.com/github/kuznechek/FirstSteps/blob/master/Week3.ipynb\" target=\"_parent\"><img src=\"https://colab.research.google.com/assets/colab-badge.svg\" alt=\"Open In Colab\"/></a>"
      ]
    },
    {
      "cell_type": "markdown",
      "metadata": {
        "id": "CCbvIDSsFMuu"
      },
      "source": [
        "Задача 1"
      ]
    },
    {
      "cell_type": "code",
      "metadata": {
        "id": "5wwLhRWyEdFG"
      },
      "source": [
        "a = input()\n",
        "b = input()\n",
        "c = a+ ' '+ b\n",
        "c = c.split()\n",
        "n = int(input())\n",
        "if n<= len(c):\n",
        "  print(c[n-1])\n",
        "else:\n",
        "  print('Такого слова нет')"
      ],
      "execution_count": null,
      "outputs": []
    },
    {
      "cell_type": "markdown",
      "metadata": {
        "id": "B4ZsDTz5FP77"
      },
      "source": [
        "Задача 2"
      ]
    },
    {
      "cell_type": "code",
      "metadata": {
        "id": "tr4-EkNVEiF1"
      },
      "source": [
        "a = input()\n",
        "w = 0\n",
        "m = 0\n",
        "for i in range(len(a)):\n",
        "  if a[i].isalpha() == True:\n",
        "    w = w+1\n",
        "  elif a[i].isdigit() == True:\n",
        "    m = m+1\n",
        "print('Количество цифр:',m)\n",
        "print('Количество букв:',w)"
      ],
      "execution_count": null,
      "outputs": []
    },
    {
      "cell_type": "markdown",
      "metadata": {
        "id": "U-nAO-ShFRcC"
      },
      "source": [
        "Задача 3"
      ]
    },
    {
      "cell_type": "code",
      "metadata": {
        "id": "kuMOE82cEogC"
      },
      "source": [
        "a = input()\n",
        "b = input().split()\n",
        "for i in range(len(b)):\n",
        "  if b[i] not in a:\n",
        "    print(b[i])"
      ],
      "execution_count": null,
      "outputs": []
    },
    {
      "cell_type": "markdown",
      "metadata": {
        "id": "qADZ5o40FTNB"
      },
      "source": [
        "Задача 4"
      ]
    },
    {
      "cell_type": "code",
      "metadata": {
        "id": "0hrxLLcXExP7"
      },
      "source": [
        "a = input().split()\n",
        "for i in range(len(a)):\n",
        "  b = int(a[i])\n",
        "  if b%2 == 0:\n",
        "    print('Для', b, 'учеников нужно', b//2, 'парт')\n",
        "  elif b%2 > 0:\n",
        "    print('Для', b, 'учеников нужно', b//2+1, 'парт')"
      ],
      "execution_count": null,
      "outputs": []
    },
    {
      "cell_type": "markdown",
      "metadata": {
        "id": "MsZCxsQCFUrd"
      },
      "source": [
        "Задача 5"
      ]
    },
    {
      "cell_type": "code",
      "metadata": {
        "id": "xLRrIMthE0UT"
      },
      "source": [
        "a = input().split()\n",
        "for i in range(len(a)):\n",
        "  b = float(a[i])\n",
        "  print(math.ceil(b))"
      ],
      "execution_count": null,
      "outputs": []
    },
    {
      "cell_type": "markdown",
      "metadata": {
        "id": "41veSNpCFWMJ"
      },
      "source": [
        "Задача 6"
      ]
    },
    {
      "cell_type": "code",
      "metadata": {
        "id": "WfzG5JZuE5oh"
      },
      "source": [
        "m = int(input())\n",
        "n = int(input())\n",
        "for i in range(1,n+1):\n",
        "  k = m*i\n",
        "  print(k)"
      ],
      "execution_count": null,
      "outputs": []
    },
    {
      "cell_type": "markdown",
      "metadata": {
        "id": "vicDpHGSFXmZ"
      },
      "source": [
        "Задача 7"
      ]
    },
    {
      "cell_type": "code",
      "metadata": {
        "id": "fawYmDmZE9lM"
      },
      "source": [
        "man = input().split()\n",
        "place = input().split()\n",
        "for i in range(len(place)):\n",
        "  b = int(place[i])\n",
        "  if b > len(man):\n",
        "    print(b, 'место никто не занял')\n",
        "  else:\n",
        "    print(b,'место занял',man[b-1])"
      ],
      "execution_count": null,
      "outputs": []
    },
    {
      "cell_type": "markdown",
      "metadata": {
        "id": "UmyjZ7CLFZZ5"
      },
      "source": [
        "Задача 8"
      ]
    },
    {
      "cell_type": "code",
      "metadata": {
        "id": "a4P7zox9FBhN"
      },
      "source": [
        "name = input().split()\n",
        "food = input().split()\n",
        "for i in range(len(food)):\n",
        "  print(name[i],'любит', food[i])"
      ],
      "execution_count": null,
      "outputs": []
    },
    {
      "cell_type": "markdown",
      "metadata": {
        "id": "suj5LjV4Faxs"
      },
      "source": [
        "Задача 9"
      ]
    },
    {
      "cell_type": "code",
      "metadata": {
        "id": "xVIjSh2SFD5D"
      },
      "source": [
        "a = input().split()\n",
        "s = ''\n",
        "for i in range(len(a)):\n",
        "  if a[i].isnumeric() == True:\n",
        "    b = '+' + a[i]\n",
        "    a[i] = b\n",
        "  elif a[i].isalpha() == True:\n",
        "    b = a[i] + '@gmail.com'\n",
        "    a[i] = b\n",
        "  s = s + a[i] + ' '\n",
        " print(s)"
      ],
      "execution_count": null,
      "outputs": []
    },
    {
      "cell_type": "markdown",
      "metadata": {
        "id": "WDQdBa56FcE7"
      },
      "source": [
        "Задача 10"
      ]
    },
    {
      "cell_type": "code",
      "metadata": {
        "id": "t53xdUtYFGiZ"
      },
      "source": [
        "a = input().split()\n",
        "for i in range(len(a)):\n",
        "  b = int(a[i])\n",
        "  zico = False\n",
        "  for iu in range(2, b):\n",
        "    if b % iu == 0:\n",
        "      zico = True\n",
        "      break\n",
        "  if zico == False:\n",
        "    print(b)"
      ],
      "execution_count": null,
      "outputs": []
    }
  ]
}