{
  "nbformat": 4,
  "nbformat_minor": 0,
  "metadata": {
    "colab": {
      "name": "Week4.ipynb",
      "provenance": [],
      "collapsed_sections": [],
      "authorship_tag": "ABX9TyPWLShjz+n7s3IVkshrTeoz",
      "include_colab_link": true
    },
    "kernelspec": {
      "name": "python3",
      "display_name": "Python 3"
    }
  },
  "cells": [
    {
      "cell_type": "markdown",
      "metadata": {
        "id": "view-in-github",
        "colab_type": "text"
      },
      "source": [
        "<a href=\"https://colab.research.google.com/github/kuznechek/FirstSteps/blob/master/Week4.ipynb\" target=\"_parent\"><img src=\"https://colab.research.google.com/assets/colab-badge.svg\" alt=\"Open In Colab\"/></a>"
      ]
    },
    {
      "cell_type": "markdown",
      "metadata": {
        "id": "SPQ7zIHfNKHB"
      },
      "source": [
        "Задача 1"
      ]
    },
    {
      "cell_type": "code",
      "metadata": {
        "id": "eUAR8AClNHdd",
        "outputId": "71e7b273-d902-4d5e-9e9c-7944c9e51235",
        "colab": {
          "base_uri": "https://localhost:8080/",
          "height": 85
        }
      },
      "source": [
        "n = int(input())\n",
        "s = 0\n",
        "for i in range(n):\n",
        "  if '@' in input():\n",
        "    s += 1\n",
        "print(s)"
      ],
      "execution_count": 29,
      "outputs": [
        {
          "output_type": "stream",
          "text": [
            "2\n",
            "in.ianv00@pamparam.ru; \n",
            "petr.petrov@pamparam.ru;\n",
            "2\n"
          ],
          "name": "stdout"
        }
      ]
    },
    {
      "cell_type": "markdown",
      "metadata": {
        "id": "50UlcPThQC-Q"
      },
      "source": [
        "Задача 2"
      ]
    },
    {
      "cell_type": "code",
      "metadata": {
        "id": "fJOrMQfkQCJq",
        "outputId": "29ec5cff-b757-4eb2-d634-c02eda42057b",
        "colab": {
          "base_uri": "https://localhost:8080/",
          "height": 102
        }
      },
      "source": [
        "n = int(input())\n",
        "s = 0\n",
        "for i in range(n):\n",
        "  s += int(input().split()[0])\n",
        "print(s/n)"
      ],
      "execution_count": 8,
      "outputs": [
        {
          "output_type": "stream",
          "text": [
            "3\n",
            "   7 баллов\n",
            "5 баллов\n",
            "      9 баллов\n",
            "7.0\n"
          ],
          "name": "stdout"
        }
      ]
    },
    {
      "cell_type": "markdown",
      "metadata": {
        "id": "Xb0IH5HfQ20o"
      },
      "source": [
        "Задача 3"
      ]
    },
    {
      "cell_type": "code",
      "metadata": {
        "id": "UOhj1fYzQ6MU",
        "outputId": "816db673-8e33-4d2b-e077-60f6085a4c20",
        "colab": {
          "base_uri": "https://localhost:8080/",
          "height": 51
        }
      },
      "source": [
        "a = input().upper().split()\n",
        "if a[0] == 'ЗАЧЕСТЬ':\n",
        "  print('YES')\n",
        "else:\n",
        "  print('NO')"
      ],
      "execution_count": 11,
      "outputs": [
        {
          "output_type": "stream",
          "text": [
            "ЗаЧЕсть Марии\n",
            "YES\n"
          ],
          "name": "stdout"
        }
      ]
    },
    {
      "cell_type": "markdown",
      "metadata": {
        "id": "Tj11jAZgTJYY"
      },
      "source": [
        "Задача 4"
      ]
    },
    {
      "cell_type": "code",
      "metadata": {
        "id": "iasUzl0wTLN3",
        "outputId": "9ced2bc6-e07a-41bd-a126-b4c8bf4d6567",
        "colab": {
          "base_uri": "https://localhost:8080/",
          "height": 136
        }
      },
      "source": [
        "n = int(input())\n",
        "for i in range(n):\n",
        "  a = input().split()\n",
        "  s = 0\n",
        "  l = len(a)\n",
        "  for j in range(1,l):\n",
        "    s += int(a[j])\n",
        "  print(a[0]+' '+str(s/l))"
      ],
      "execution_count": 31,
      "outputs": [
        {
          "output_type": "stream",
          "text": [
            "3\n",
            "Катя 3 8 90\n",
            "Катя 25.25\n",
            "Мария 4 3 10\n",
            "Мария 4.25\n",
            "Настя 17 12 9\n",
            "Настя 9.5\n"
          ],
          "name": "stdout"
        }
      ]
    },
    {
      "cell_type": "markdown",
      "metadata": {
        "id": "70yJghTQVnc0"
      },
      "source": [
        "Задача 5"
      ]
    },
    {
      "cell_type": "code",
      "metadata": {
        "id": "iqvEYkL6Vqcv",
        "outputId": "b26ce5d0-f288-4e9f-bc9d-1d536f832685",
        "colab": {
          "base_uri": "https://localhost:8080/",
          "height": 136
        }
      },
      "source": [
        "r = list()\n",
        "for _ in range(5):\n",
        "  a = input().split()\n",
        "  l = len(a)\n",
        "  for i in range(l):\n",
        "    if a[i] not in r:\n",
        "      r.append(a[i])\n",
        "      r.append(0)\n",
        "    ind = r.index(a[i])\n",
        "    if i == 0:\n",
        "      r[ind+1] += 5\n",
        "    elif i == 1 or i == 2:\n",
        "      r[ind+1] += 3\n",
        "    else:\n",
        "      r[ind+1] += 1\n",
        "b = input()\n",
        "ind = r.index(b)\n",
        "print(r[ind+1])"
      ],
      "execution_count": 18,
      "outputs": [
        {
          "output_type": "stream",
          "text": [
            "Сергеев Пирогов Лукойл Барин\n",
            "Барин Сергеев Пирогов\n",
            "Петров Барин Валя\n",
            "Маруся Валя Нина Петя\n",
            "Петя Дима Рустам\n",
            "Барин\n",
            "9\n"
          ],
          "name": "stdout"
        }
      ]
    },
    {
      "cell_type": "markdown",
      "metadata": {
        "id": "mLmH_6r5Ygpt"
      },
      "source": [
        "Задача 6"
      ]
    },
    {
      "cell_type": "code",
      "metadata": {
        "id": "vjIInwDJYh1m",
        "outputId": "5b70e7d5-5a5d-48dc-c60f-c4df88b510e6",
        "colab": {
          "base_uri": "https://localhost:8080/",
          "height": 85
        }
      },
      "source": [
        "a = input().split()\n",
        "b = input().split()\n",
        "d, v = '', ''\n",
        "for i in range(len(b)):\n",
        "  if int(b[i]) < 4:\n",
        "    d += a[i] + ' '\n",
        "  else:\n",
        "    v += a[i] + ' '\n",
        "print(d)\n",
        "print(v)"
      ],
      "execution_count": 32,
      "outputs": [
        {
          "output_type": "stream",
          "text": [
            "Петя Маша Катя Поля\n",
            "2 10 10 10\n",
            "Петя \n",
            "Маша Катя Поля \n"
          ],
          "name": "stdout"
        }
      ]
    },
    {
      "cell_type": "markdown",
      "metadata": {
        "id": "QxEavyKYaTgD"
      },
      "source": [
        "Задача 7"
      ]
    },
    {
      "cell_type": "code",
      "metadata": {
        "id": "h3kretdDaSOQ",
        "outputId": "be487429-9b48-4df0-ccb1-e966c8e46191",
        "colab": {
          "base_uri": "https://localhost:8080/",
          "height": 51
        }
      },
      "source": [
        "a = input()\n",
        "b, l = 0, 0\n",
        "for i in range(len(a)):\n",
        "  if a[i].isupper() == True:\n",
        "    b += 1\n",
        "  elif a[i].islower() == True:\n",
        "    l += 1\n",
        "if b >= l:\n",
        "  print(a.upper())\n",
        "else:\n",
        "  print(a.lower())"
      ],
      "execution_count": 29,
      "outputs": [
        {
          "output_type": "stream",
          "text": [
            "Мама я люблю КОКАИН\n",
            "мама я люблю кокаин\n"
          ],
          "name": "stdout"
        }
      ]
    },
    {
      "cell_type": "markdown",
      "metadata": {
        "id": "Lh5XijIjcL3f"
      },
      "source": [
        "Задача 8"
      ]
    },
    {
      "cell_type": "code",
      "metadata": {
        "id": "z88P3vJBd3VV",
        "outputId": "5a4facd3-bfe6-4d08-acb4-76bb6e9f700b",
        "colab": {
          "base_uri": "https://localhost:8080/",
          "height": 51
        }
      },
      "source": [
        "park = input().split()\n",
        "s = ''\n",
        "for jay in park:\n",
        "  gd = ''\n",
        "  l = len(jay)\n",
        "  flag = False\n",
        "  for i in range(l):   \n",
        "    if jay[i].isalpha() == True:\n",
        "      flag = True\n",
        "    if flag == False:\n",
        "      continue\n",
        "    gd += jay[i]\n",
        "    if jay[i] == '@':\n",
        "      break\n",
        "  s += gd + 'pamparam.ru; '\n",
        "print(s)"
      ],
      "execution_count": 11,
      "outputs": [
        {
          "output_type": "stream",
          "text": [
            "0-1in.ianv00@gmail.com; 42.petr.petrov@mail.ru; _1990_olg0a@hse.ru\n",
            "in.ianv00@pamparam.ru; petr.petrov@pamparam.ru; olg0a@pamparam.ru; \n"
          ],
          "name": "stdout"
        }
      ]
    },
    {
      "cell_type": "markdown",
      "metadata": {
        "id": "pSgLiUc3r26L"
      },
      "source": [
        "Задача 9"
      ]
    },
    {
      "cell_type": "code",
      "metadata": {
        "id": "HGhCL9uqr43B",
        "outputId": "caa08abc-c42f-448f-d058-b03e92d07a05",
        "colab": {
          "base_uri": "https://localhost:8080/",
          "height": 51
        }
      },
      "source": [
        "a = input()\n",
        "h = a.count('h')\n",
        "l = len(a)\n",
        "k = 0\n",
        "b = ''\n",
        "for i in range(l):\n",
        "  if a[i] == 'h':\n",
        "    k += 1\n",
        "    if k == 1 or k == h:\n",
        "      b += a[i]\n",
        "    else:\n",
        "      b += 'H'\n",
        "  else:\n",
        "    b += a[i]\n",
        "print(b)"
      ],
      "execution_count": 24,
      "outputs": [
        {
          "output_type": "stream",
          "text": [
            "Ahahhahhaha\n",
            "AhaHHaHHaha\n"
          ],
          "name": "stdout"
        }
      ]
    },
    {
      "cell_type": "markdown",
      "metadata": {
        "id": "jUpH80FxudLW"
      },
      "source": [
        "Задача 10"
      ]
    },
    {
      "cell_type": "code",
      "metadata": {
        "id": "peX1C9nzueh7",
        "outputId": "da6b0f55-2e2a-4e38-a767-24b4e2b3b998",
        "colab": {
          "base_uri": "https://localhost:8080/",
          "height": 85
        }
      },
      "source": [
        "a = input().split()\n",
        "b = input()\n",
        "ans = ''\n",
        "for i in range(len(a)):\n",
        "  ans += a[i][4]\n",
        "print('Ваш ответ:', ans)\n",
        "if ans == b:\n",
        "  print('Молодец! Все верно')\n",
        "else:\n",
        "  print('Тест решен неверно, правильный ответ:', b)"
      ],
      "execution_count": 28,
      "outputs": [
        {
          "output_type": "stream",
          "text": [
            "4656A, 8777B, 9000C, 8777B\n",
            "ANDY\n",
            "Ваш ответ: ABCB\n",
            "Тест решен неверно, правильный ответ: ANDY\n"
          ],
          "name": "stdout"
        }
      ]
    }
  ]
}