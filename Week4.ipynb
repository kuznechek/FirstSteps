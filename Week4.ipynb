{
  "nbformat": 4,
  "nbformat_minor": 0,
  "metadata": {
    "colab": {
      "name": "Week4.ipynb",
      "provenance": [],
      "collapsed_sections": [],
      "authorship_tag": "ABX9TyOjabew54OX1Ko/q3HXliqp",
      "include_colab_link": true
    },
    "kernelspec": {
      "name": "python3",
      "display_name": "Python 3"
    }
  },
  "cells": [
    {
      "cell_type": "markdown",
      "metadata": {
        "id": "view-in-github",
        "colab_type": "text"
      },
      "source": [
        "<a href=\"https://colab.research.google.com/github/kuznechek/FirstSteps/blob/master/Week4.ipynb\" target=\"_parent\"><img src=\"https://colab.research.google.com/assets/colab-badge.svg\" alt=\"Open In Colab\"/></a>"
      ]
    },
    {
      "cell_type": "markdown",
      "metadata": {
        "id": "SPQ7zIHfNKHB"
      },
      "source": [
        "Задача 1"
      ]
    },
    {
      "cell_type": "code",
      "metadata": {
        "id": "eUAR8AClNHdd"
      },
      "source": [
        "n = int(input())\n",
        "s = 0\n",
        "for i in range(n):\n",
        "  a = input()\n",
        "  if '@' in a:\n",
        "    s += a.count('@')\n",
        "print(s)"
      ],
      "execution_count": null,
      "outputs": []
    },
    {
      "cell_type": "markdown",
      "metadata": {
        "id": "50UlcPThQC-Q"
      },
      "source": [
        "Задача 2"
      ]
    },
    {
      "cell_type": "code",
      "metadata": {
        "id": "fJOrMQfkQCJq"
      },
      "source": [
        "n = int(input())\n",
        "s = 0\n",
        "for i in range(n):\n",
        "  s += int(input().split()[0])\n",
        "print(s/n)"
      ],
      "execution_count": null,
      "outputs": []
    },
    {
      "cell_type": "markdown",
      "metadata": {
        "id": "Xb0IH5HfQ20o"
      },
      "source": [
        "Задача 3"
      ]
    },
    {
      "cell_type": "code",
      "metadata": {
        "id": "UOhj1fYzQ6MU"
      },
      "source": [
        "a = input().lower().split()\n",
        "if 'зачесть' in a[0]:\n",
        "  print('YES')\n",
        "else:\n",
        "  print('NO')"
      ],
      "execution_count": null,
      "outputs": []
    },
    {
      "cell_type": "markdown",
      "metadata": {
        "id": "Tj11jAZgTJYY"
      },
      "source": [
        "Задача 4"
      ]
    },
    {
      "cell_type": "code",
      "metadata": {
        "id": "iasUzl0wTLN3"
      },
      "source": [
        "n = int(input())\n",
        "d = list()\n",
        "for i in range(n):\n",
        "  a = input().split()\n",
        "  s = 0\n",
        "  l = len(a)\n",
        "  for j in range(1,l):\n",
        "    s += float(a[j])\n",
        "  d.append(a[0]+' '+str(round(s,1)))\n",
        "for k in d:\n",
        "  print(k)"
      ],
      "execution_count": null,
      "outputs": []
    },
    {
      "cell_type": "markdown",
      "metadata": {
        "id": "70yJghTQVnc0"
      },
      "source": [
        "Задача 5"
      ]
    },
    {
      "cell_type": "code",
      "metadata": {
        "id": "atJ7oMBkhTZL"
      },
      "source": [
        "r = list()\n",
        "for b in range(5):\n",
        "  p = input()\n",
        "  l = len(p)\n",
        "  s = ''\n",
        "  for i in range(l):\n",
        "    if p[i] != ',':\n",
        "      s += p[i]\n",
        "  p = s.split()\n",
        "  l = len(p)\n",
        "  for i in range(l):\n",
        "    if p[i] not in r:\n",
        "      r.append(p[i])\n",
        "      r.append(0)\n",
        "    ind = r.index(p[i])\n",
        "    if i == 0:\n",
        "      r[ind+1] += 5\n",
        "    elif i == 1 or i == 2:\n",
        "      r[ind+1] += 3\n",
        "    else:\n",
        "      r[ind+1] += 1\n",
        "b = input()\n",
        "if b in r:\n",
        "  ind = r.index(b)\n",
        "  print(r[ind+1])\n",
        "else:\n",
        "  print(0)"
      ],
      "execution_count": null,
      "outputs": []
    },
    {
      "cell_type": "markdown",
      "metadata": {
        "id": "mLmH_6r5Ygpt"
      },
      "source": [
        "Задача 6"
      ]
    },
    {
      "cell_type": "code",
      "metadata": {
        "id": "vjIInwDJYh1m"
      },
      "source": [
        "a = input().split()\n",
        "b = input().split()\n",
        "d, v = '', ''\n",
        "for i in range(len(b)):\n",
        "  if int(b[i]) < 4:\n",
        "    d += a[i] + ' '\n",
        "  else:\n",
        "    v += a[i] + ' '\n",
        "print(d)\n",
        "print(v)"
      ],
      "execution_count": null,
      "outputs": []
    },
    {
      "cell_type": "markdown",
      "metadata": {
        "id": "QxEavyKYaTgD"
      },
      "source": [
        "Задача 7"
      ]
    },
    {
      "cell_type": "code",
      "metadata": {
        "id": "h3kretdDaSOQ"
      },
      "source": [
        "a = input()\n",
        "b, l = 0, 0\n",
        "for i in range(len(a)):\n",
        "  if a[i].isupper() == True:\n",
        "    b += 1\n",
        "  elif a[i].islower() == True:\n",
        "    l += 1\n",
        "if b >= l:\n",
        "  print(a.upper())\n",
        "else:\n",
        "  print(a.lower())"
      ],
      "execution_count": null,
      "outputs": []
    },
    {
      "cell_type": "markdown",
      "metadata": {
        "id": "Lh5XijIjcL3f"
      },
      "source": [
        "Задача 8"
      ]
    },
    {
      "cell_type": "code",
      "metadata": {
        "id": "z88P3vJBd3VV"
      },
      "source": [
        "park = input().split()\n",
        "s = ''\n",
        "n = len(park)\n",
        "for jay in range(n):\n",
        "  gd = ''\n",
        "  l = len(park[jay])\n",
        "  flag = False\n",
        "  for i in range(l):   \n",
        "    if park[jay][i].isalpha() == True:\n",
        "      flag = True\n",
        "    if flag == False:\n",
        "      continue\n",
        "    gd += park[jay][i]\n",
        "    if park[jay][i] == '@':\n",
        "      break\n",
        "  if jay < n-1:\n",
        "    s += gd + 'pamparam.ru; '\n",
        "  else:\n",
        "    s += gd + 'pamparam.ru'\n",
        "print(s)"
      ],
      "execution_count": null,
      "outputs": []
    },
    {
      "cell_type": "markdown",
      "metadata": {
        "id": "pSgLiUc3r26L"
      },
      "source": [
        "Задача 9"
      ]
    },
    {
      "cell_type": "code",
      "metadata": {
        "id": "HGhCL9uqr43B"
      },
      "source": [
        "a = input()\n",
        "h = a.count('h')\n",
        "l = len(a)\n",
        "k = 0\n",
        "b = ''\n",
        "for i in range(l):\n",
        "  if a[i] == 'h':\n",
        "    k += 1\n",
        "    if k == 1 or k == h:\n",
        "      b += a[i]\n",
        "    else:\n",
        "      b += 'H'\n",
        "  else:\n",
        "    b += a[i]\n",
        "print(b)"
      ],
      "execution_count": null,
      "outputs": []
    },
    {
      "cell_type": "markdown",
      "metadata": {
        "id": "jUpH80FxudLW"
      },
      "source": [
        "Задача 10"
      ]
    },
    {
      "cell_type": "code",
      "metadata": {
        "id": "peX1C9nzueh7"
      },
      "source": [
        "a = input().split()\n",
        "b = input()\n",
        "ans = ''\n",
        "for i in range(len(a)):\n",
        "  ans += a[i][4]\n",
        "print('Ваш ответ:', ans)\n",
        "if ans == b:\n",
        "  print('Молодец! Все верно')\n",
        "else:\n",
        "  print('Тест решен неверно, правильный ответ:', b)"
      ],
      "execution_count": null,
      "outputs": []
    }
  ]
}