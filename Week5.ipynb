{
  "nbformat": 4,
  "nbformat_minor": 0,
  "metadata": {
    "colab": {
      "name": "Week5.ipynb",
      "provenance": [],
      "collapsed_sections": [],
      "authorship_tag": "ABX9TyMQo8km2m5TUGImEW6YLibj",
      "include_colab_link": true
    },
    "kernelspec": {
      "name": "python3",
      "display_name": "Python 3"
    }
  },
  "cells": [
    {
      "cell_type": "markdown",
      "metadata": {
        "id": "view-in-github",
        "colab_type": "text"
      },
      "source": [
        "<a href=\"https://colab.research.google.com/github/kuznechek/FirstSteps/blob/master/Week5.ipynb\" target=\"_parent\"><img src=\"https://colab.research.google.com/assets/colab-badge.svg\" alt=\"Open In Colab\"/></a>"
      ]
    },
    {
      "cell_type": "markdown",
      "metadata": {
        "id": "XLTP13Nlsjet"
      },
      "source": [
        "Задача 1"
      ]
    },
    {
      "cell_type": "code",
      "metadata": {
        "id": "tf6mIVjEse9Z"
      },
      "source": [
        "a = input().split()\n",
        "let = input()\n",
        "n = int(input())\n",
        "sp = list()\n",
        "for k in a:\n",
        "  if k[0] ==  let:\n",
        "    l = len(k)\n",
        "    if k[l-1] == ',':\n",
        "      if l-1 == n:\n",
        "        sp.append(k[0:l-1])\n",
        "    elif l-2 == n:\n",
        "      sp.append(k)\n",
        "\n",
        "if sp != []:\n",
        "  st = 'Сегодня Петя может съесть на ужин следующие продукты: '\n",
        "  for i in range(len(sp)):\n",
        "    if i == len(sp)-1:\n",
        "      st += sp[i] + '.'\n",
        "      #st = st.join(sp[i]).join('.')\n",
        "    else:\n",
        "      st += sp[i] + ', '\n",
        "  print(st)\n",
        "else:\n",
        "  print('Нужно идти в магазин.')\n"
      ],
      "execution_count": null,
      "outputs": []
    },
    {
      "cell_type": "markdown",
      "metadata": {
        "id": "2kXG5e-0zSB3"
      },
      "source": [
        "Задача 2"
      ]
    },
    {
      "cell_type": "code",
      "metadata": {
        "id": "3aG0RTF6zTO9"
      },
      "source": [
        "a = input().split(',')\n",
        "d = list()\n",
        "while a[0] != 'Конец':\n",
        "  d.append(a)\n",
        "  a = input().split(',')\n",
        "year = input() \n",
        "names, material, f = list(), list(), 0\n",
        "for k in d:\n",
        "  if ' ' + year in k:\n",
        "    f = 1\n",
        "    names.append(k[0])\n",
        "    material.append(k[2])\n",
        "s = ''\n",
        "for i in range(len(names)):\n",
        "  if i != len(names)-1:\n",
        "    s += names[i] + ' (материал -' + material[i] + '), '\n",
        "  else:\n",
        "    s += names[i] + ' (материал -' + material[i] + ').'\n",
        "if f == 0:\n",
        "  print('В этот год никто не покупал волшебные палочки.')\n",
        "else:\n",
        "  print('В', year, 'году волшебную палочку купили:', s)"
      ],
      "execution_count": null,
      "outputs": []
    },
    {
      "cell_type": "markdown",
      "metadata": {
        "id": "hmUzfY9oAbg2"
      },
      "source": [
        "Задача 3"
      ]
    },
    {
      "cell_type": "code",
      "metadata": {
        "id": "o6r2V4w91o1F"
      },
      "source": [
        "d = dict()\n",
        "a = input().split()\n",
        "if a[0] != 'КОНЕЦ':\n",
        "  while a[0] != 'КОНЕЦ':\n",
        "    s = d.get(a[0])\n",
        "    if s != None:\n",
        "      s = int(s) + int(a[1])\n",
        "      a[1] = s\n",
        "    d.update([a])\n",
        "    a = input().split()\n",
        "  name, score = list(), list()\n",
        "  for k,v in d.items():\n",
        "    name.append(k)\n",
        "    score.append(v)\n",
        "  if int(score[0]) > int(score[1]):\n",
        "    print(name[0])\n",
        "  elif int(score[0]) < int(score[1]):\n",
        "    print(name[1])\n",
        "  else:\n",
        "    print('Ничья')\n",
        "else:\n",
        "  print('Ничья')"
      ],
      "execution_count": null,
      "outputs": []
    },
    {
      "cell_type": "markdown",
      "metadata": {
        "id": "wXKMboAwAdcz"
      },
      "source": [
        "Задача 4"
      ]
    },
    {
      "cell_type": "code",
      "metadata": {
        "id": "Jzzjmx9uAe5D"
      },
      "source": [
        "d = list()\n",
        "for i in range(3):\n",
        "  a = input().split(',')\n",
        "  for k in a:\n",
        "    k = k.split()\n",
        "    d.append(k)\n",
        "s = 0\n",
        "for i in range(len(d)//3):\n",
        "  if d.count(d[i]) == 3:\n",
        "    s += 1\n",
        "print(s)"
      ],
      "execution_count": null,
      "outputs": []
    },
    {
      "cell_type": "markdown",
      "metadata": {
        "id": "disnCTgnDIy_"
      },
      "source": [
        "Задача 5"
      ]
    },
    {
      "cell_type": "code",
      "metadata": {
        "id": "uPdEnFLuDILF"
      },
      "source": [
        "a = input().split()[0]\n",
        "b = input().split()[0]\n",
        "s = 0\n",
        "for i in range(len(b)):\n",
        "  if b[i] in a:\n",
        "    s+= 1\n",
        "  else:\n",
        "    print('НЕТ')\n",
        "    break\n",
        "if s == len(b):\n",
        "  print('ДА')"
      ],
      "execution_count": null,
      "outputs": []
    },
    {
      "cell_type": "markdown",
      "metadata": {
        "id": "Lsww5GvMHre6"
      },
      "source": [
        "Задача 6"
      ]
    },
    {
      "cell_type": "code",
      "metadata": {
        "id": "LkuGdzfTHuWi"
      },
      "source": [
        "sweets,toys,names = list(), list(), list()\n",
        "for i in range(3):\n",
        "  a = input().split(',')\n",
        "  for k in a:\n",
        "    k = k.split()\n",
        "    if i == 0:\n",
        "      sweets.append(k)\n",
        "    elif i == 1:\n",
        "      toys.append(k)\n",
        "    elif i == 2:\n",
        "      names.append(k) \n",
        "for name in names:\n",
        "  if name not in sweets:\n",
        "    print(\"\".join(name), 'конфеты')\n",
        "  elif name not in toys:\n",
        "    print(\"\".join(name), 'игрушка')\n",
        "  else:\n",
        "    print(\"\".join(name), 'всё есть')"
      ],
      "execution_count": null,
      "outputs": []
    },
    {
      "cell_type": "markdown",
      "metadata": {
        "id": "dqkEhUwxLbKT"
      },
      "source": [
        "Задача 7"
      ]
    },
    {
      "cell_type": "code",
      "metadata": {
        "id": "rEgssN22LcVH"
      },
      "source": [
        "all, spam = set(), set()\n",
        "a = input()\n",
        "while a != 'END':\n",
        "  all.add(a)\n",
        "  a = input()\n",
        "a = input()\n",
        "while a != 'END':\n",
        "  spam.add(a)\n",
        "  a = input()\n",
        "for adr in spam:\n",
        "  if adr in all:\n",
        "    all.remove(adr)\n",
        "print(len(all))"
      ],
      "execution_count": null,
      "outputs": []
    },
    {
      "cell_type": "markdown",
      "metadata": {
        "id": "DL_u8Q7uNuy4"
      },
      "source": [
        "Задача 8"
      ]
    },
    {
      "cell_type": "code",
      "metadata": {
        "id": "MzwauiGJNwxM"
      },
      "source": [
        "a = input().split()\n",
        "d = dict()\n",
        "while a[0] != 'все':\n",
        "  d.update([a])\n",
        "  a = input().split()\n",
        "key = input()\n",
        "if d.get(key) != None:\n",
        "  print(d.get(key))\n",
        "else:\n",
        "  print('Такого слова нет')"
      ],
      "execution_count": null,
      "outputs": []
    },
    {
      "cell_type": "markdown",
      "metadata": {
        "id": "iHD1snYcPUjr"
      },
      "source": [
        "Задача 9"
      ]
    },
    {
      "cell_type": "code",
      "metadata": {
        "id": "otQ_i6nQPWac"
      },
      "source": [
        "books = { 'Сильмариллион': 'Джон Толкин', 'Гарри Поттер и кубок огня': 'Джоан Роулинг', 'Неукротимая планета': 'Гарри Гаррисон', 'Человек без лица': 'Альфред Бестер', \"Алиса в стране чудес\": \"Льюис Кэрролл\", \"Космическая Одиссея\": \"Артур Кларк\", \"Дюна\": \"Фрэнк Герберт\", \"Двадцать тысяч лье под водой\": \"Жюль Верн\", \"Янки из Коннектикута при дворе короля Артура\": \"Марк Твен\", \"Американские боги\": \"Нил Гейман\", \"Хроники Амбера\": \"Роджер Желязны\", \"Хроники Нарнии\": \"Клайв С. Льюис\", \"Война миров\": \"Герберт Уэллс\" } \n",
        "a = input()\n",
        "for k, v in books.items():\n",
        "  if a in k or a in v:\n",
        "    print(v + ':', k)"
      ],
      "execution_count": null,
      "outputs": []
    },
    {
      "cell_type": "markdown",
      "metadata": {
        "id": "bseI_YKHQ63C"
      },
      "source": [
        "Задача 10"
      ]
    },
    {
      "cell_type": "code",
      "metadata": {
        "id": "qKXsEevSQ8dr"
      },
      "source": [
        "par_name = ['Номер', 'Имя', 'Тип', 'Рост', 'Вес'] \n",
        "pokemon, sp = dict(), list()\n",
        "for i in range(5):\n",
        "  sp.append(input())\n",
        "print(dict(zip(par_name, sp)))"
      ],
      "execution_count": null,
      "outputs": []
    }
  ]
}