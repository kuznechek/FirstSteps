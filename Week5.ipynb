{
  "nbformat": 4,
  "nbformat_minor": 0,
  "metadata": {
    "colab": {
      "name": "Week5.ipynb",
      "provenance": [],
      "collapsed_sections": [],
      "authorship_tag": "ABX9TyMTr/DEjQ1Z/5Z/shfQf8vx",
      "include_colab_link": true
    },
    "kernelspec": {
      "name": "python3",
      "display_name": "Python 3"
    }
  },
  "cells": [
    {
      "cell_type": "markdown",
      "metadata": {
        "id": "view-in-github",
        "colab_type": "text"
      },
      "source": [
        "<a href=\"https://colab.research.google.com/github/kuznechek/FirstSteps/blob/master/Week5.ipynb\" target=\"_parent\"><img src=\"https://colab.research.google.com/assets/colab-badge.svg\" alt=\"Open In Colab\"/></a>"
      ]
    },
    {
      "cell_type": "markdown",
      "metadata": {
        "id": "XLTP13Nlsjet"
      },
      "source": [
        "Задача 1"
      ]
    },
    {
      "cell_type": "code",
      "metadata": {
        "id": "tf6mIVjEse9Z",
        "outputId": "71cb88be-012f-4006-8789-f6cdf0ec4dbf",
        "colab": {
          "base_uri": "https://localhost:8080/",
          "height": 85
        }
      },
      "source": [
        "a = input().split()\n",
        "let = input()\n",
        "n = int(input())\n",
        "sp = list()\n",
        "for k in a:\n",
        "  if k[0] ==  let:\n",
        "    l = len(k)\n",
        "    if k[l-1] == ',':\n",
        "      if l-1 == n:\n",
        "        sp.append(k[0:l-1])\n",
        "    elif l-2 == n:\n",
        "      sp.append(k)\n",
        "\n",
        "if sp != []:\n",
        "  st = 'Сегодня Петя может съесть на ужин следующие продукты: '\n",
        "  for i in range(len(sp)):\n",
        "    if i == len(sp)-1:\n",
        "      st += sp[i] + '.'\n",
        "      #st = st.join(sp[i]).join('.')\n",
        "    else:\n",
        "      st += sp[i] + ', '\n",
        "  print(st)\n",
        "else:\n",
        "  print('Нужно идти в магазин.')\n"
      ],
      "execution_count": 23,
      "outputs": [
        {
          "output_type": "stream",
          "text": [
            "бананы, яблоки, малина, молоко, батон, морковь\n",
            "м\n",
            "6\n",
            "Сегодня Петя может съесть на ужин следующие продукты: малина, молоко.\n"
          ],
          "name": "stdout"
        }
      ]
    },
    {
      "cell_type": "markdown",
      "metadata": {
        "id": "2kXG5e-0zSB3"
      },
      "source": [
        "Задача 2"
      ]
    },
    {
      "cell_type": "code",
      "metadata": {
        "id": "3aG0RTF6zTO9",
        "outputId": "987798a0-8f06-468b-d749-19aad09a07af",
        "colab": {
          "base_uri": "https://localhost:8080/",
          "height": 102
        }
      },
      "source": [
        "a = input().split(',')\n",
        "d = list()\n",
        "while a[0] != 'Конец':\n",
        "  d.append(a)\n",
        "  a = input().split(',')\n",
        "year = input() \n",
        "names, material, f = list(), list(), 0\n",
        "for k in d:\n",
        "  if ' ' + year in k:\n",
        "    f = 1\n",
        "    names.append(k[0])\n",
        "    material.append(k[2])\n",
        "s = ''\n",
        "for i in range(len(names)):\n",
        "  if i != len(names)-1:\n",
        "    s += names[i] + ' (материал -' + material[i] + '), '\n",
        "  else:\n",
        "    s += names[i] + ' (материал -' + material[i] + ').'\n",
        "if f == 0:\n",
        "  print('В этот год никто не покупал волшебные палочки.')\n",
        "else:\n",
        "  print('В', year, 'году волшебную палочку купили:', s)"
      ],
      "execution_count": 51,
      "outputs": [
        {
          "output_type": "stream",
          "text": [
            "Невилл Долгопупс, 1989, вишневое дерево\n",
            "Невилл Долгопупс, 1989, вишневое дерево\n",
            "Конец\n",
            "1989\n",
            "В 1989 году волшебную палочку купили: Невилл Долгопупс (материал - вишневое дерево), Невилл Долгопупс (материал - вишневое дерево).\n"
          ],
          "name": "stdout"
        }
      ]
    },
    {
      "cell_type": "code",
      "metadata": {
        "id": "o6r2V4w91o1F",
        "outputId": "ba5bfca9-33af-4740-a5b4-6c8c6fcee40b",
        "colab": {
          "base_uri": "https://localhost:8080/",
          "height": 51
        }
      },
      "source": [
        "d = dict()\n",
        "a = input().split()\n",
        "if a[0] != 'КОНЕЦ':\n",
        "  while a[0] != 'КОНЕЦ':\n",
        "    s = d.get(a[0])\n",
        "    if s != None:\n",
        "      s = int(s) + int(a[1])\n",
        "      a[1] = s\n",
        "    d.update([a])\n",
        "    a = input().split()\n",
        "  name, score = list(), list()\n",
        "  for k,v in d.items():\n",
        "    name.append(k)\n",
        "    score.append(v)\n",
        "  if int(score[0]) > int(score[1]):\n",
        "    print(name[0])\n",
        "  elif int(score[0]) < int(score[1]):\n",
        "    print(name[1])\n",
        "  else:\n",
        "    print('Ничья')\n",
        "else:\n",
        "  print('Ничья')"
      ],
      "execution_count": 110,
      "outputs": [
        {
          "output_type": "stream",
          "text": [
            "КОНЕЦ\n",
            "Ничья\n"
          ],
          "name": "stdout"
        }
      ]
    }
  ]
}